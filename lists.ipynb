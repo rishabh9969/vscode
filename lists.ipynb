{
 "cells": [
  {
   "cell_type": "code",
   "execution_count": 1,
   "metadata": {},
   "outputs": [],
   "source": [
    "names = ['Alice', 'Bob','Charlie', 'Debbie']\n",
    "prime_nums = [2, 3, 5, 7, 11, 13, 17, 19, 23, 29]\n",
    "mix_list = [1, 'Alice', 2, 'Bob', 3, 'Charlie',4,'Debbie', 5]\n",
    "nest_list = [[1, 2, 3], [4, 5, 6], [7, 8, 9]]"
   ]
  },
  {
   "cell_type": "code",
   "execution_count": 6,
   "metadata": {},
   "outputs": [
    {
     "name": "stdout",
     "output_type": "stream",
     "text": [
      "4\n",
      "10\n",
      "9\n",
      "3\n"
     ]
    }
   ],
   "source": [
    "print(len(names))\n",
    "print(len(prime_nums))\n",
    "print(len(mix_list))\n",
    "print(len(nest_list))\n"
   ]
  },
  {
   "cell_type": "code",
   "execution_count": null,
   "metadata": {},
   "outputs": [],
   "source": []
  }
 ],
 "metadata": {
  "kernelspec": {
   "display_name": "base",
   "language": "python",
   "name": "python3"
  },
  "language_info": {
   "codemirror_mode": {
    "name": "ipython",
    "version": 3
   },
   "file_extension": ".py",
   "mimetype": "text/x-python",
   "name": "python",
   "nbconvert_exporter": "python",
   "pygments_lexer": "ipython3",
   "version": "3.11.5"
  }
 },
 "nbformat": 4,
 "nbformat_minor": 2
}
