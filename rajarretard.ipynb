{
 "cells": [
  {
   "cell_type": "code",
   "execution_count": 4,
   "metadata": {},
   "outputs": [
    {
     "name": "stdout",
     "output_type": "stream",
     "text": [
      "p\n"
     ]
    }
   ],
   "source": [
    "\n",
    "c='this is an example'\n",
    "print (c[-3])\n",
    "\n",
    "    "
   ]
  },
  {
   "cell_type": "code",
   "execution_count": 9,
   "metadata": {},
   "outputs": [
    {
     "name": "stdout",
     "output_type": "stream",
     "text": [
      "p\n"
     ]
    }
   ],
   "source": [
    "name= \"prince dhar gujjar\"\n",
    "name[8:12]\n",
    "name[::2]\n",
    "print(name[:1:2])\n"
   ]
  },
  {
   "cell_type": "code",
   "execution_count": 10,
   "metadata": {},
   "outputs": [
    {
     "name": "stdout",
     "output_type": "stream",
     "text": [
      "retardrajat\n"
     ]
    }
   ],
   "source": [
    "fname=\"retard\"\n",
    "lname=\"rajat\"\n",
    "print(fname+lname)"
   ]
  },
  {
   "cell_type": "code",
   "execution_count": 13,
   "metadata": {},
   "outputs": [
    {
     "name": "stdout",
     "output_type": "stream",
     "text": [
      "4\n"
     ]
    }
   ],
   "source": [
    "sentemce=\"did prince study in kota study form\"\n",
    "print(sentemce.find(\"prince\"))"
   ]
  },
  {
   "cell_type": "code",
   "execution_count": 5,
   "metadata": {},
   "outputs": [
    {
     "name": "stdout",
     "output_type": "stream",
     "text": [
      "['BraveBrowserSetup.exe', 'desktop.ini', 'Git-2.43.0-64-bit.exe', 'Miniconda3-latest-Windows-x86_64.exe', 'Telegram Desktop', 'VSCodeUserSetup-x64-1.76.0.exe', 'VSCodeUserSetup-x64-1.86.0.exe']\n"
     ]
    }
   ],
   "source": [
    "import os\n",
    "\n",
    "content = os.listdir('C:/Users/mayan/Downloads')\n",
    "\n",
    "print(content)"
   ]
  },
  {
   "cell_type": "code",
   "execution_count": 6,
   "metadata": {},
   "outputs": [
    {
     "name": "stdout",
     "output_type": "stream",
     "text": [
      "BraveBrowserSetup.exe\n",
      "Git-2.43.0-64-bit.exe\n",
      "Miniconda3-latest-Windows-x86_64.exe\n",
      "VSCodeUserSetup-x64-1.76.0.exe\n",
      "VSCodeUserSetup-x64-1.86.0.exe\n"
     ]
    }
   ],
   "source": [
    "for item in content:\n",
    "    if item.endswith('.exe'):\n",
    "        print(item)"
   ]
  },
  {
   "cell_type": "code",
   "execution_count": null,
   "metadata": {},
   "outputs": [],
   "source": []
  }
 ],
 "metadata": {
  "kernelspec": {
   "display_name": "base",
   "language": "python",
   "name": "python3"
  },
  "language_info": {
   "codemirror_mode": {
    "name": "ipython",
    "version": 3
   },
   "file_extension": ".py",
   "mimetype": "text/x-python",
   "name": "python",
   "nbconvert_exporter": "python",
   "pygments_lexer": "ipython3",
   "version": "3.11.5"
  }
 },
 "nbformat": 4,
 "nbformat_minor": 2
}
