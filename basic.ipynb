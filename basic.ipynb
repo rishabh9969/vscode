{
 "cells": [
  {
   "cell_type": "code",
   "execution_count": 2,
   "metadata": {},
   "outputs": [
    {
     "name": "stdout",
     "output_type": "stream",
     "text": [
      "hell naw\n"
     ]
    }
   ],
   "source": [
    "print(\"hell naw\")\n",
    "\n",
    "\n"
   ]
  },
  {
   "cell_type": "code",
   "execution_count": 4,
   "metadata": {},
   "outputs": [
    {
     "data": {
      "text/plain": [
       "13"
      ]
     },
     "execution_count": 4,
     "metadata": {},
     "output_type": "execute_result"
    }
   ],
   "source": [
    "2+3\n",
    "\n",
    "6+7\n"
   ]
  },
  {
   "cell_type": "code",
   "execution_count": 5,
   "metadata": {},
   "outputs": [
    {
     "data": {
      "text/plain": [
       "2"
      ]
     },
     "execution_count": 5,
     "metadata": {},
     "output_type": "execute_result"
    }
   ],
   "source": [
    "10//5"
   ]
  },
  {
   "cell_type": "markdown",
   "metadata": {},
   "source": [
    "10**3"
   ]
  },
  {
   "cell_type": "code",
   "execution_count": 6,
   "metadata": {},
   "outputs": [
    {
     "data": {
      "text/plain": [
       "1000"
      ]
     },
     "execution_count": 6,
     "metadata": {},
     "output_type": "execute_result"
    }
   ],
   "source": [
    "10**3"
   ]
  },
  {
   "cell_type": "code",
   "execution_count": 7,
   "metadata": {},
   "outputs": [
    {
     "data": {
      "text/plain": [
       "20"
      ]
     },
     "execution_count": 7,
     "metadata": {},
     "output_type": "execute_result"
    }
   ],
   "source": [
    "10*3-10"
   ]
  },
  {
   "cell_type": "markdown",
   "metadata": {},
   "source": []
  },
  {
   "cell_type": "code",
   "execution_count": 9,
   "metadata": {},
   "outputs": [
    {
     "name": "stdout",
     "output_type": "stream",
     "text": [
      "hell naw\n"
     ]
    }
   ],
   "source": [
    "name=\"hell naw\"\n",
    "age=68\n",
    "can_edge=True\n",
    "print (name)"
   ]
  },
  {
   "cell_type": "code",
   "execution_count": 12,
   "metadata": {},
   "outputs": [
    {
     "name": "stdout",
     "output_type": "stream",
     "text": [
      "20\n"
     ]
    }
   ],
   "source": [
    "a=10\n",
    "a+=10\n",
    "print (a)"
   ]
  },
  {
   "cell_type": "code",
   "execution_count": 16,
   "metadata": {},
   "outputs": [
    {
     "name": "stdout",
     "output_type": "stream",
     "text": [
      "10\n",
      "True\n",
      "False\n"
     ]
    }
   ],
   "source": [
    "a,b=10,3\n",
    "a,b=10,3\n",
    "a,b=10,3\n",
    "a,b=10,3\n",
    "a,b=10,3\n",
    "a,b=10,3\n",
    "a,b=10,3\n",
    "a,b=10,3\n",
    "a,b=10,3\n",
    "a,b=10,3\n",
    "a,b=10,3\n",
    "a,b=10,3\n",
    "print(a)\n",
    "a==b\n",
    "print(a>b)\n",
    "print(a<b)"
   ]
  },
  {
   "cell_type": "code",
   "execution_count": 18,
   "metadata": {},
   "outputs": [
    {
     "name": "stdout",
     "output_type": "stream",
     "text": [
      "False\n"
     ]
    }
   ],
   "source": [
    "\n",
    "x=\"apple\"\n",
    "y=\"ramjat\"\n",
    "print(x==\"apple\"and x==\"ramjat\")\n",
    "print(x==\"apple\"and x==\"ramjat\")\n",
    "\n",
    "\n",
    "\n",
    "\n",
    "\n",
    "\n"
   ]
  },
  {
   "cell_type": "code",
   "execution_count": 19,
   "metadata": {},
   "outputs": [
    {
     "data": {
      "text/plain": [
       "False"
      ]
     },
     "execution_count": 19,
     "metadata": {},
     "output_type": "execute_result"
    }
   ],
   "source": [
    "fruits=['mausami','princecherry','kela']\n",
    "\"prince\" in fruits"
   ]
  },
  {
   "cell_type": "code",
   "execution_count": 30,
   "metadata": {},
   "outputs": [
    {
     "name": "stdout",
     "output_type": "stream",
     "text": [
      "50006712814.20114\n",
      "('amount', 576720280337.2012)\n"
     ]
    }
   ],
   "source": [
    "p=int(input('principal'))\n",
    "r=float(input('rate'))\n",
    "\n",
    "si=p*r*t/100\n",
    "\n",
    "print(si)\n",
    "a=('amount',si+p)\n",
    "print(a)"
   ]
  },
  {
   "cell_type": "code",
   "execution_count": 12,
   "metadata": {},
   "outputs": [
    {
     "name": "stdout",
     "output_type": "stream",
     "text": [
      "prince_of_persia rajasthan\n",
      "prince_of_persia wht u dooing at rajasthan\n"
     ]
    }
   ],
   "source": [
    "name='prince_of_persia'\n",
    "city='rajasthan'\n",
    "print(name,city)\n",
    "print(f\"{name} wht u dooing at {city}\")"
   ]
  },
  {
   "cell_type": "code",
   "execution_count": 13,
   "metadata": {},
   "outputs": [
    {
     "name": "stdout",
     "output_type": "stream",
     "text": [
      "u good bro \n",
      "you may\n",
      "total 27540.0\n"
     ]
    }
   ],
   "source": [
    "qty=68\n",
    "rate=450\n",
    "total=qty*rate\n",
    "if total>450:\n",
    "    print(\"u good bro \")\n",
    "    print(\"you may\")\n",
    "    total=total*0.9#90 bumper discount\n",
    "    print('total',total)\n",
    "    "
   ]
  },
  {
   "cell_type": "code",
   "execution_count": 17,
   "metadata": {},
   "outputs": [
    {
     "name": "stdout",
     "output_type": "stream",
     "text": [
      "even num98\n"
     ]
    }
   ],
   "source": [
    "number=int(input('enter a number'))\n",
    "if number% 2==0:\n",
    "    print(f'even num{number}')\n",
    "else:\n",
    "    print(f\"odd num{number}\")\n",
    "    "
   ]
  },
  {
   "cell_type": "code",
   "execution_count": 23,
   "metadata": {},
   "outputs": [
    {
     "name": "stdout",
     "output_type": "stream",
     "text": [
      "-respect🤷\n"
     ]
    }
   ],
   "source": [
    "marks=int(input(\"enter a number\"))\n",
    "total=600\n",
    "pct=marks/total*100\n",
    "if pct>=90:\n",
    "    print(\"gajab\")\n",
    "elif pct>=80:\n",
    "    print(\"pass hogya\")\n",
    "    \n",
    "else:\n",
    "    print(\"-respect🤷\")"
   ]
  },
  {
   "cell_type": "code",
   "execution_count": 25,
   "metadata": {},
   "outputs": [
    {
     "name": "stdout",
     "output_type": "stream",
     "text": [
      "what is the capital of uganda\n",
      "a china\n",
      "b prince of persia\n",
      "c england\n",
      "d nothing\n",
      "mosti nhi\n"
     ]
    }
   ],
   "source": [
    "print('what is the capital of uganda')\n",
    "print('a china')\n",
    "print('b prince of persia')\n",
    "print('c england')\n",
    "print('d nothing')\n",
    "ans=input(\"enter your sigma answer\")\n",
    "match ans:\n",
    "    case \"a\":\n",
    "        print(\"shing song weong\")\n",
    "    case \"b\":\n",
    "        print(\"gaming horhi bhyankar \")\n",
    "    case \"c\":\n",
    "        print(\"angrej desh khali kro\")\n",
    "    case \"d\":\n",
    "        print(\"mosti nhi\")\n",
    "    case _:\n",
    "        print('wapasm jao')\n",
    "\n",
    "        \n"
   ]
  },
  {
   "cell_type": "code",
   "execution_count": null,
   "metadata": {},
   "outputs": [],
   "source": []
  }
 ],
 "metadata": {
  "kernelspec": {
   "display_name": "base",
   "language": "python",
   "name": "python3"
  },
  "language_info": {
   "codemirror_mode": {
    "name": "ipython",
    "version": 3
   },
   "file_extension": ".py",
   "mimetype": "text/x-python",
   "name": "python",
   "nbconvert_exporter": "python",
   "pygments_lexer": "ipython3",
   "version": "3.11.5"
  }
 },
 "nbformat": 4,
 "nbformat_minor": 2
}
