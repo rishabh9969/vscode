{
 "cells": [
  {
   "cell_type": "code",
   "execution_count": null,
   "metadata": {},
   "outputs": [],
   "source": [
    "data=[\"the sigma king\",900,93.0]\n",
    "print(data)"
   ]
  },
  {
   "cell_type": "code",
   "execution_count": 1,
   "metadata": {},
   "outputs": [
    {
     "name": "stdout",
     "output_type": "stream",
     "text": [
      "{'title': 'the retard king', 'year': '561 ad', 'author': 'prince narula the animal', 'rating': 2.0}\n",
      "prince narula the animal\n",
      "561 ad\n"
     ]
    }
   ],
   "source": [
    "data={\"title\":\"the retard king\",\n",
    "      \"year\":\"561 ad\",\n",
    "       \"author\":\"prince narula the animal\",\n",
    "      \"rating\":2.0           }\n",
    "print(data)\n",
    "print(data['author'])\n",
    "print(data.get('year'))"
   ]
  },
  {
   "cell_type": "code",
   "execution_count": 2,
   "metadata": {},
   "outputs": [
    {
     "name": "stdout",
     "output_type": "stream",
     "text": [
      "{'raga': '2222', 'ragss3': '33', 'rrrrr': '3222', 'tgaaa': '333'}\n"
     ]
    }
   ],
   "source": [
    "movie={}\n",
    "for i in range(5):\n",
    "    key = input('enter the key:')\n",
    "    value = input('enter the value:')\n",
    "    movie[key]=value\n",
    "print(movie)"
   ]
  },
  {
   "cell_type": "code",
   "execution_count": null,
   "metadata": {},
   "outputs": [],
   "source": []
  }
 ],
 "metadata": {
  "kernelspec": {
   "display_name": "base",
   "language": "python",
   "name": "python3"
  },
  "language_info": {
   "codemirror_mode": {
    "name": "ipython",
    "version": 3
   },
   "file_extension": ".py",
   "mimetype": "text/x-python",
   "name": "python",
   "nbconvert_exporter": "python",
   "pygments_lexer": "ipython3",
   "version": "3.11.5"
  }
 },
 "nbformat": 4,
 "nbformat_minor": 2
}
