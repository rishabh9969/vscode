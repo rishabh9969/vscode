{
 "cells": [
  {
   "cell_type": "code",
   "execution_count": 6,
   "metadata": {},
   "outputs": [
    {
     "name": "stdout",
     "output_type": "stream",
     "text": [
      "the product is100and100is10000\n"
     ]
    }
   ],
   "source": [
    "def bekar_fun():\n",
    "    x=int(input(\"enter a number\"))\n",
    "    y=int(input(\"enter a number\"))\n",
    "    z=x*y\n",
    "    print(F\"the product is{x}and{y}is{z}\")\n",
    "bekar_fun()\n",
    "\n",
    "\n",
    "\n",
    "\n",
    "\n",
    "\n"
   ]
  },
  {
   "cell_type": "code",
   "execution_count": 5,
   "metadata": {},
   "outputs": [],
   "source": [
    "from turtle import*\n",
    "speed(0)\n",
    "def hexagon():\n",
    "    for _ in range(6):\n",
    "        fd(100)\n",
    "        lt(60)\n",
    "\n",
    "def pentagon():\n",
    "    for _ in range(5):\n",
    "        fd(40) \n",
    "        lt(72) \n",
    "\n",
    "for i in range(6):\n",
    "    fd(100)    \n",
    "    hexagon()   \n",
    "    pentagon()\n",
    "    lt(60)     \n",
    "\n",
    "\n",
    "\n",
    "        "
   ]
  },
  {
   "cell_type": "code",
   "execution_count": null,
   "metadata": {},
   "outputs": [],
   "source": []
  }
 ],
 "metadata": {
  "kernelspec": {
   "display_name": "base",
   "language": "python",
   "name": "python3"
  },
  "language_info": {
   "codemirror_mode": {
    "name": "ipython",
    "version": 3
   },
   "file_extension": ".py",
   "mimetype": "text/x-python",
   "name": "python",
   "nbconvert_exporter": "python",
   "pygments_lexer": "ipython3",
   "version": "3.11.5"
  }
 },
 "nbformat": 4,
 "nbformat_minor": 2
}
